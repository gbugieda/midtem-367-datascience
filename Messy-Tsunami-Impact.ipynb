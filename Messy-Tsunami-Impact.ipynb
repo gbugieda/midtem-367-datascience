{
 "cells": [
  {
   "cell_type": "markdown",
   "id": "magnetic-workstation",
   "metadata": {},
   "source": [
    "# Messy IPYNB File"
   ]
  },
  {
   "cell_type": "markdown",
   "id": "dressed-times",
   "metadata": {},
   "source": [
    "### Reading in dataset and looking at some basic info / summary information"
   ]
  },
  {
   "cell_type": "code",
   "execution_count": 25,
   "id": "annoying-knitting",
   "metadata": {},
   "outputs": [
    {
     "data": {
      "text/html": [
       "<div>\n",
       "<style scoped>\n",
       "    .dataframe tbody tr th:only-of-type {\n",
       "        vertical-align: middle;\n",
       "    }\n",
       "\n",
       "    .dataframe tbody tr th {\n",
       "        vertical-align: top;\n",
       "    }\n",
       "\n",
       "    .dataframe thead th {\n",
       "        text-align: right;\n",
       "    }\n",
       "</style>\n",
       "<table border=\"1\" class=\"dataframe\">\n",
       "  <thead>\n",
       "    <tr style=\"text-align: right;\">\n",
       "      <th></th>\n",
       "      <th>Search Parameters</th>\n",
       "      <th>Year</th>\n",
       "      <th>Mo</th>\n",
       "      <th>Dy</th>\n",
       "      <th>Hr</th>\n",
       "      <th>Mn</th>\n",
       "      <th>Sec</th>\n",
       "      <th>Tsunami Event Validity</th>\n",
       "      <th>Tsunami Cause Code</th>\n",
       "      <th>Earthquake Magnitude</th>\n",
       "      <th>...</th>\n",
       "      <th>Total Missing</th>\n",
       "      <th>Total Missing Description</th>\n",
       "      <th>Total Injuries</th>\n",
       "      <th>Total Injuries Description</th>\n",
       "      <th>Total Damage ($Mil)</th>\n",
       "      <th>Total Damage Description</th>\n",
       "      <th>Total Houses Destroyed</th>\n",
       "      <th>Total Houses Destroyed Description</th>\n",
       "      <th>Total Houses Damaged</th>\n",
       "      <th>Total Houses Damaged Description</th>\n",
       "    </tr>\n",
       "  </thead>\n",
       "  <tbody>\n",
       "    <tr>\n",
       "      <th>0</th>\n",
       "      <td>[]</td>\n",
       "      <td>NaN</td>\n",
       "      <td>NaN</td>\n",
       "      <td>NaN</td>\n",
       "      <td>NaN</td>\n",
       "      <td>NaN</td>\n",
       "      <td>NaN</td>\n",
       "      <td>NaN</td>\n",
       "      <td>NaN</td>\n",
       "      <td>NaN</td>\n",
       "      <td>...</td>\n",
       "      <td>NaN</td>\n",
       "      <td>NaN</td>\n",
       "      <td>NaN</td>\n",
       "      <td>NaN</td>\n",
       "      <td>NaN</td>\n",
       "      <td>NaN</td>\n",
       "      <td>NaN</td>\n",
       "      <td>NaN</td>\n",
       "      <td>NaN</td>\n",
       "      <td>NaN</td>\n",
       "    </tr>\n",
       "    <tr>\n",
       "      <th>1</th>\n",
       "      <td>NaN</td>\n",
       "      <td>-2000.0</td>\n",
       "      <td>NaN</td>\n",
       "      <td>NaN</td>\n",
       "      <td>NaN</td>\n",
       "      <td>NaN</td>\n",
       "      <td>NaN</td>\n",
       "      <td>1.0</td>\n",
       "      <td>1.0</td>\n",
       "      <td>NaN</td>\n",
       "      <td>...</td>\n",
       "      <td>NaN</td>\n",
       "      <td>NaN</td>\n",
       "      <td>NaN</td>\n",
       "      <td>NaN</td>\n",
       "      <td>NaN</td>\n",
       "      <td>4.0</td>\n",
       "      <td>NaN</td>\n",
       "      <td>NaN</td>\n",
       "      <td>NaN</td>\n",
       "      <td>NaN</td>\n",
       "    </tr>\n",
       "    <tr>\n",
       "      <th>2</th>\n",
       "      <td>NaN</td>\n",
       "      <td>-1610.0</td>\n",
       "      <td>NaN</td>\n",
       "      <td>NaN</td>\n",
       "      <td>NaN</td>\n",
       "      <td>NaN</td>\n",
       "      <td>NaN</td>\n",
       "      <td>4.0</td>\n",
       "      <td>6.0</td>\n",
       "      <td>NaN</td>\n",
       "      <td>...</td>\n",
       "      <td>NaN</td>\n",
       "      <td>NaN</td>\n",
       "      <td>NaN</td>\n",
       "      <td>NaN</td>\n",
       "      <td>NaN</td>\n",
       "      <td>3.0</td>\n",
       "      <td>NaN</td>\n",
       "      <td>NaN</td>\n",
       "      <td>NaN</td>\n",
       "      <td>NaN</td>\n",
       "    </tr>\n",
       "    <tr>\n",
       "      <th>3</th>\n",
       "      <td>NaN</td>\n",
       "      <td>-1365.0</td>\n",
       "      <td>NaN</td>\n",
       "      <td>NaN</td>\n",
       "      <td>NaN</td>\n",
       "      <td>NaN</td>\n",
       "      <td>NaN</td>\n",
       "      <td>1.0</td>\n",
       "      <td>1.0</td>\n",
       "      <td>NaN</td>\n",
       "      <td>...</td>\n",
       "      <td>NaN</td>\n",
       "      <td>NaN</td>\n",
       "      <td>NaN</td>\n",
       "      <td>NaN</td>\n",
       "      <td>NaN</td>\n",
       "      <td>3.0</td>\n",
       "      <td>NaN</td>\n",
       "      <td>NaN</td>\n",
       "      <td>NaN</td>\n",
       "      <td>NaN</td>\n",
       "    </tr>\n",
       "    <tr>\n",
       "      <th>4</th>\n",
       "      <td>NaN</td>\n",
       "      <td>-1300.0</td>\n",
       "      <td>NaN</td>\n",
       "      <td>NaN</td>\n",
       "      <td>NaN</td>\n",
       "      <td>NaN</td>\n",
       "      <td>NaN</td>\n",
       "      <td>2.0</td>\n",
       "      <td>0.0</td>\n",
       "      <td>6.0</td>\n",
       "      <td>...</td>\n",
       "      <td>NaN</td>\n",
       "      <td>NaN</td>\n",
       "      <td>NaN</td>\n",
       "      <td>NaN</td>\n",
       "      <td>NaN</td>\n",
       "      <td>NaN</td>\n",
       "      <td>NaN</td>\n",
       "      <td>NaN</td>\n",
       "      <td>NaN</td>\n",
       "      <td>NaN</td>\n",
       "    </tr>\n",
       "  </tbody>\n",
       "</table>\n",
       "<p>5 rows × 46 columns</p>\n",
       "</div>"
      ],
      "text/plain": [
       "  Search Parameters    Year  Mo  Dy  Hr  Mn  Sec  Tsunami Event Validity  \\\n",
       "0                []     NaN NaN NaN NaN NaN  NaN                     NaN   \n",
       "1               NaN -2000.0 NaN NaN NaN NaN  NaN                     1.0   \n",
       "2               NaN -1610.0 NaN NaN NaN NaN  NaN                     4.0   \n",
       "3               NaN -1365.0 NaN NaN NaN NaN  NaN                     1.0   \n",
       "4               NaN -1300.0 NaN NaN NaN NaN  NaN                     2.0   \n",
       "\n",
       "   Tsunami Cause Code  Earthquake Magnitude  ...  Total Missing  \\\n",
       "0                 NaN                   NaN  ...            NaN   \n",
       "1                 1.0                   NaN  ...            NaN   \n",
       "2                 6.0                   NaN  ...            NaN   \n",
       "3                 1.0                   NaN  ...            NaN   \n",
       "4                 0.0                   6.0  ...            NaN   \n",
       "\n",
       "   Total Missing Description  Total Injuries Total Injuries Description  \\\n",
       "0                        NaN             NaN                        NaN   \n",
       "1                        NaN             NaN                        NaN   \n",
       "2                        NaN             NaN                        NaN   \n",
       "3                        NaN             NaN                        NaN   \n",
       "4                        NaN             NaN                        NaN   \n",
       "\n",
       "  Total Damage ($Mil)  Total Damage Description  Total Houses Destroyed  \\\n",
       "0                 NaN                       NaN                     NaN   \n",
       "1                 NaN                       4.0                     NaN   \n",
       "2                 NaN                       3.0                     NaN   \n",
       "3                 NaN                       3.0                     NaN   \n",
       "4                 NaN                       NaN                     NaN   \n",
       "\n",
       "   Total Houses Destroyed Description  Total Houses Damaged  \\\n",
       "0                                 NaN                   NaN   \n",
       "1                                 NaN                   NaN   \n",
       "2                                 NaN                   NaN   \n",
       "3                                 NaN                   NaN   \n",
       "4                                 NaN                   NaN   \n",
       "\n",
       "   Total Houses Damaged Description  \n",
       "0                               NaN  \n",
       "1                               NaN  \n",
       "2                               NaN  \n",
       "3                               NaN  \n",
       "4                               NaN  \n",
       "\n",
       "[5 rows x 46 columns]"
      ]
     },
     "execution_count": 25,
     "metadata": {},
     "output_type": "execute_result"
    }
   ],
   "source": [
    "import pandas as pd\n",
    "import matplotlib.pyplot as plt\n",
    "import seaborn as sns\n",
    "\n",
    "df_e = pd.read_csv(\"data/tsunami-events.tsv\", sep='\\t')\n",
    "df_e.head()"
   ]
  },
  {
   "cell_type": "code",
   "execution_count": 3,
   "id": "colored-eugene",
   "metadata": {},
   "outputs": [
    {
     "name": "stdout",
     "output_type": "stream",
     "text": [
      "<class 'pandas.core.frame.DataFrame'>\n",
      "RangeIndex: 2714 entries, 0 to 2713\n",
      "Data columns (total 46 columns):\n",
      " #   Column                              Non-Null Count  Dtype  \n",
      "---  ------                              --------------  -----  \n",
      " 0   Search Parameters                   1 non-null      object \n",
      " 1   Year                                2713 non-null   float64\n",
      " 2   Mo                                  2565 non-null   float64\n",
      " 3   Dy                                  2457 non-null   float64\n",
      " 4   Hr                                  1399 non-null   float64\n",
      " 5   Mn                                  1314 non-null   float64\n",
      " 6   Sec                                 913 non-null    float64\n",
      " 7   Tsunami Event Validity              2713 non-null   float64\n",
      " 8   Tsunami Cause Code                  2709 non-null   float64\n",
      " 9   Earthquake Magnitude                1530 non-null   float64\n",
      " 10  Vol                                 150 non-null    float64\n",
      " 11  More Info                           0 non-null      float64\n",
      " 12  Deposits                            2713 non-null   float64\n",
      " 13  Country                             2712 non-null   object \n",
      " 14  Location Name                       2710 non-null   object \n",
      " 15  Latitude                            2340 non-null   float64\n",
      " 16  Longitude                           2339 non-null   float64\n",
      " 17  Maximum Water Height (m)            1172 non-null   float64\n",
      " 18  Number of Runups                    2713 non-null   float64\n",
      " 19  Tsunami Magnitude (Abe)             1 non-null      float64\n",
      " 20  Tsunami Magnitude (Iida)            747 non-null    float64\n",
      " 21  Tsunami Intensity                   1224 non-null   float64\n",
      " 22  Deaths                              257 non-null    float64\n",
      " 23  Death Description                   349 non-null    float64\n",
      " 24  Missing                             4 non-null      float64\n",
      " 25  Missing Description                 5 non-null      float64\n",
      " 26  Injuries                            70 non-null     float64\n",
      " 27  Injuries Description                82 non-null     float64\n",
      " 28  Damage ($Mil)                       46 non-null     float64\n",
      " 29  Damage Description                  602 non-null    float64\n",
      " 30  Houses Destroyed                    99 non-null     float64\n",
      " 31  Houses Destroyed Description        272 non-null    float64\n",
      " 32  Houses Damaged                      14 non-null     float64\n",
      " 33  Houses Damaged Description          58 non-null     float64\n",
      " 34  Total Deaths                        575 non-null    float64\n",
      " 35  Total Death Description             717 non-null    float64\n",
      " 36  Total Missing                       8 non-null      float64\n",
      " 37  Total Missing Description           9 non-null      float64\n",
      " 38  Total Injuries                      267 non-null    float64\n",
      " 39  Total Injuries Description          311 non-null    float64\n",
      " 40  Total Damage ($Mil)                 140 non-null    float64\n",
      " 41  Total Damage Description            1123 non-null   float64\n",
      " 42  Total Houses Destroyed              226 non-null    float64\n",
      " 43  Total Houses Destroyed Description  634 non-null    float64\n",
      " 44  Total Houses Damaged                68 non-null     float64\n",
      " 45  Total Houses Damaged Description    208 non-null    float64\n",
      "dtypes: float64(43), object(3)\n",
      "memory usage: 975.5+ KB\n"
     ]
    }
   ],
   "source": [
    "df_e.info()"
   ]
  },
  {
   "cell_type": "code",
   "execution_count": 4,
   "id": "logical-firewall",
   "metadata": {},
   "outputs": [
    {
     "name": "stdout",
     "output_type": "stream",
     "text": [
      "<class 'pandas.core.frame.DataFrame'>\n",
      "RangeIndex: 28642 entries, 0 to 28641\n",
      "Data columns (total 45 columns):\n",
      " #   Column                        Non-Null Count  Dtype  \n",
      "---  ------                        --------------  -----  \n",
      " 0   Search Parameters             1 non-null      object \n",
      " 1   Year                          28641 non-null  float64\n",
      " 2   Mo                            28537 non-null  float64\n",
      " 3   Dy                            28422 non-null  float64\n",
      " 4   Hr                            26762 non-null  float64\n",
      " 5   Mn                            26532 non-null  float64\n",
      " 6   Sec                           24015 non-null  float64\n",
      " 7   Tsunami Event Validity        28641 non-null  float64\n",
      " 8   Tsunami Cause Code            28641 non-null  float64\n",
      " 9   Tsu Src                       28641 non-null  float64\n",
      " 10  Earthquake Magnitude          26613 non-null  float64\n",
      " 11  Vol                           2177 non-null   float64\n",
      " 12  More Info                     0 non-null      float64\n",
      " 13  Doubtful Runup                28641 non-null  object \n",
      " 14  Country                       28639 non-null  object \n",
      " 15  Area                          22597 non-null  object \n",
      " 16  Location Name                 28636 non-null  object \n",
      " 17  Latitude                      28001 non-null  float64\n",
      " 18  Longitude                     28001 non-null  float64\n",
      " 19  Distance From Source (km)     27674 non-null  float64\n",
      " 20  Initial Wave Arrival Day      3799 non-null   float64\n",
      " 21  Initial Wave Arrival Hour     3749 non-null   float64\n",
      " 22  Initial Wave Arrival Minute   3680 non-null   float64\n",
      " 23  Travel Hours                  3446 non-null   float64\n",
      " 24  Travel Minutes                3448 non-null   float64\n",
      " 25  Max Wave Arrival Day          1300 non-null   float64\n",
      " 26  Max Wave Arrival Hour         1301 non-null   float64\n",
      " 27  Max Wave Arrival Minute       1301 non-null   float64\n",
      " 28  Maximum Water Height (m)      24416 non-null  float64\n",
      " 29  Max Inundation Distance (m)   9259 non-null   float64\n",
      " 30  Measurement Type              28405 non-null  float64\n",
      " 31  Period                        2647 non-null   float64\n",
      " 32  First Motion                  1602 non-null   object \n",
      " 33  Deaths                        743 non-null    float64\n",
      " 34  Death Description             983 non-null    float64\n",
      " 35  Missing                       53 non-null     float64\n",
      " 36  Missing Description           54 non-null     float64\n",
      " 37  Injuries                      147 non-null    float64\n",
      " 38  Injuries Description          156 non-null    float64\n",
      " 39  Damage $Mil                   137 non-null    float64\n",
      " 40  Damage Description            2198 non-null   float64\n",
      " 41  Houses Destroyed              330 non-null    float64\n",
      " 42  Houses Destroyed Description  871 non-null    float64\n",
      " 43  Houses Damaged                170 non-null    float64\n",
      " 44  Houses Damaged Description    471 non-null    float64\n",
      "dtypes: float64(39), object(6)\n",
      "memory usage: 9.8+ MB\n"
     ]
    },
    {
     "name": "stderr",
     "output_type": "stream",
     "text": [
      "/Users/giannabugieda/CISC367/venv/lib/python3.9/site-packages/IPython/core/interactiveshell.py:3155: DtypeWarning: Columns (0) have mixed types.Specify dtype option on import or set low_memory=False.\n",
      "  has_raised = await self.run_ast_nodes(code_ast.body, cell_name,\n"
     ]
    }
   ],
   "source": [
    "df_r = pd.read_csv(\"data/tsunami-runups.tsv\", sep='\\t')\n",
    "# data is related to tsunami runup data which contains information on locations where tsunami effects were observed\n",
    "df_r.info()"
   ]
  },
  {
   "cell_type": "markdown",
   "id": "successful-being",
   "metadata": {},
   "source": [
    " "
   ]
  },
  {
   "cell_type": "markdown",
   "id": "adolescent-membership",
   "metadata": {},
   "source": [
    "After looking at the two potential datasets, I think it would be more useful to gear my analysis towards the effects of tsunamis, thus only using the runup dataset (since this dataset shows information based on where tsunami effects were observed).  The event dataset uses the source of the tsunami."
   ]
  },
  {
   "cell_type": "markdown",
   "id": "renewable-contemporary",
   "metadata": {},
   "source": [
    "\n",
    "***Notes:***\n",
    "* Topics of interest:\n",
    "    * locations of earthquakes\n",
    "    * intensity vs damage\n",
    "    * how much damage/deaths are tsunamis causing (historical vs last 5-10 years)\n",
    "* Notable:\n",
    "    * Look into if there are reasons why some data is missing (year, geographic location, etc)"
   ]
  },
  {
   "cell_type": "markdown",
   "id": "hollywood-philip",
   "metadata": {},
   "source": [
    "### Column Differentiation"
   ]
  },
  {
   "cell_type": "markdown",
   "id": "prerequisite-zoning",
   "metadata": {},
   "source": [
    "#### What makes [Name] and [Name Description] different?"
   ]
  },
  {
   "cell_type": "markdown",
   "id": "powered-mexico",
   "metadata": {},
   "source": [
    "General answer: (https://www.ngdc.noaa.gov/hazel/view/hazards/tsunami/runup-data)\n",
    "* [Name] columns have numbers whenever possible (deaths = # of deaths, houses destroyed = # houses destroyed)\n",
    "* [Name Description] columns are categories of numerical data.  (For example: none, few, some, many, very many /  none, limited, moderate, severe extreme / etc).  They represent if a description of event was found in literature instead of number of deaths, the value is coded into a category representing a range of numbers.  If event has actual number of deaths, that number is also coded into a category for consistency)."
   ]
  },
  {
   "cell_type": "markdown",
   "id": "specified-rochester",
   "metadata": {},
   "source": [
    " "
   ]
  },
  {
   "cell_type": "markdown",
   "id": "detected-greeting",
   "metadata": {},
   "source": [
    "### Some Summary Statistics"
   ]
  },
  {
   "cell_type": "code",
   "execution_count": 162,
   "id": "tested-penny",
   "metadata": {},
   "outputs": [
    {
     "name": "stdout",
     "output_type": "stream",
     "text": [
      "Deaths:\n",
      "count       743.000000\n",
      "mean       1161.771198\n",
      "std       12909.871526\n",
      "min           0.000000\n",
      "25%           3.000000\n",
      "50%          15.000000\n",
      "75%         100.500000\n",
      "max      300000.000000\n",
      "Name: Deaths, dtype: float64\n",
      "\n",
      "Damage:\n",
      "count       137.000000\n",
      "mean       1697.063540\n",
      "std       18792.843523\n",
      "min           0.001000\n",
      "25%           0.050000\n",
      "50%           0.500000\n",
      "75%          10.000000\n",
      "max      220000.000000\n",
      "Name: Damage $Mil, dtype: float64\n",
      "\n",
      "Damage Description:\n",
      "count    2198.000000\n",
      "mean        1.375341\n",
      "std         0.723286\n",
      "min         0.000000\n",
      "25%         1.000000\n",
      "50%         1.000000\n",
      "75%         2.000000\n",
      "max         4.000000\n",
      "Name: Damage Description, dtype: float64\n"
     ]
    }
   ],
   "source": [
    "df = df_r #renaming for ease of use\n",
    "# summary statistics on some column categories\n",
    "deaths = df['Deaths'].describe()\n",
    "damage = df['Damage $Mil'].describe()\n",
    "damage_descrip = df['Damage Description'].describe()\n",
    "print(\"Deaths:\\n\" + str(deaths))\n",
    "print(\"\\nDamage:\\n\" + str(damage))\n",
    "print(\"\\nDamage Description:\\n\" + str(damage_descrip))"
   ]
  },
  {
   "cell_type": "markdown",
   "id": "restricted-storm",
   "metadata": {},
   "source": [
    "## Cleaning and reducing the dataset"
   ]
  },
  {
   "cell_type": "markdown",
   "id": "quick-folder",
   "metadata": {},
   "source": [
    "I will be looking only at data that came from a definite tsunami event.  NOAA categorizes the validity of tsunami events by the following:\n",
    "* -1 : erroneous entry\n",
    "* 0: event that only caused disturbance in inland river\n",
    "* 1: very doubtful tsunami\n",
    "* 2: questionable tsunami\n",
    "* 3: probable tsunami\n",
    "* 4: definite tsunami\n",
    "\n",
    "Based on these categories, to ensure all of my results and analysis deal with definite tsunamis, I will only be looking at data whose validity column is rated as a 4.\n"
   ]
  },
  {
   "cell_type": "code",
   "execution_count": 163,
   "id": "handed-stanley",
   "metadata": {},
   "outputs": [
    {
     "data": {
      "text/html": [
       "<div>\n",
       "<style scoped>\n",
       "    .dataframe tbody tr th:only-of-type {\n",
       "        vertical-align: middle;\n",
       "    }\n",
       "\n",
       "    .dataframe tbody tr th {\n",
       "        vertical-align: top;\n",
       "    }\n",
       "\n",
       "    .dataframe thead th {\n",
       "        text-align: right;\n",
       "    }\n",
       "</style>\n",
       "<table border=\"1\" class=\"dataframe\">\n",
       "  <thead>\n",
       "    <tr style=\"text-align: right;\">\n",
       "      <th></th>\n",
       "      <th>Year</th>\n",
       "      <th>Mo</th>\n",
       "      <th>Dy</th>\n",
       "      <th>Hr</th>\n",
       "      <th>Mn</th>\n",
       "      <th>Sec</th>\n",
       "      <th>Tsunami Event Validity</th>\n",
       "      <th>Tsunami Cause Code</th>\n",
       "      <th>Tsu Src</th>\n",
       "      <th>Earthquake Magnitude</th>\n",
       "      <th>...</th>\n",
       "      <th>Missing</th>\n",
       "      <th>Missing Description</th>\n",
       "      <th>Injuries</th>\n",
       "      <th>Injuries Description</th>\n",
       "      <th>Damage $Mil</th>\n",
       "      <th>Damage Description</th>\n",
       "      <th>Houses Destroyed</th>\n",
       "      <th>Houses Destroyed Description</th>\n",
       "      <th>Houses Damaged</th>\n",
       "      <th>Houses Damaged Description</th>\n",
       "    </tr>\n",
       "  </thead>\n",
       "  <tbody>\n",
       "    <tr>\n",
       "      <th>2</th>\n",
       "      <td>-1610.0</td>\n",
       "      <td>NaN</td>\n",
       "      <td>NaN</td>\n",
       "      <td>NaN</td>\n",
       "      <td>NaN</td>\n",
       "      <td>NaN</td>\n",
       "      <td>4.0</td>\n",
       "      <td>6.0</td>\n",
       "      <td>3.0</td>\n",
       "      <td>NaN</td>\n",
       "      <td>...</td>\n",
       "      <td>NaN</td>\n",
       "      <td>NaN</td>\n",
       "      <td>NaN</td>\n",
       "      <td>NaN</td>\n",
       "      <td>NaN</td>\n",
       "      <td>3.0</td>\n",
       "      <td>NaN</td>\n",
       "      <td>NaN</td>\n",
       "      <td>NaN</td>\n",
       "      <td>NaN</td>\n",
       "    </tr>\n",
       "    <tr>\n",
       "      <th>3</th>\n",
       "      <td>-1610.0</td>\n",
       "      <td>NaN</td>\n",
       "      <td>NaN</td>\n",
       "      <td>NaN</td>\n",
       "      <td>NaN</td>\n",
       "      <td>NaN</td>\n",
       "      <td>4.0</td>\n",
       "      <td>6.0</td>\n",
       "      <td>3.0</td>\n",
       "      <td>NaN</td>\n",
       "      <td>...</td>\n",
       "      <td>NaN</td>\n",
       "      <td>NaN</td>\n",
       "      <td>NaN</td>\n",
       "      <td>NaN</td>\n",
       "      <td>NaN</td>\n",
       "      <td>3.0</td>\n",
       "      <td>NaN</td>\n",
       "      <td>NaN</td>\n",
       "      <td>NaN</td>\n",
       "      <td>NaN</td>\n",
       "    </tr>\n",
       "    <tr>\n",
       "      <th>5</th>\n",
       "      <td>-426.0</td>\n",
       "      <td>6.0</td>\n",
       "      <td>NaN</td>\n",
       "      <td>NaN</td>\n",
       "      <td>NaN</td>\n",
       "      <td>NaN</td>\n",
       "      <td>4.0</td>\n",
       "      <td>1.0</td>\n",
       "      <td>10.0</td>\n",
       "      <td>7.1</td>\n",
       "      <td>...</td>\n",
       "      <td>NaN</td>\n",
       "      <td>NaN</td>\n",
       "      <td>NaN</td>\n",
       "      <td>NaN</td>\n",
       "      <td>NaN</td>\n",
       "      <td>1.0</td>\n",
       "      <td>NaN</td>\n",
       "      <td>NaN</td>\n",
       "      <td>NaN</td>\n",
       "      <td>NaN</td>\n",
       "    </tr>\n",
       "    <tr>\n",
       "      <th>6</th>\n",
       "      <td>-426.0</td>\n",
       "      <td>6.0</td>\n",
       "      <td>NaN</td>\n",
       "      <td>NaN</td>\n",
       "      <td>NaN</td>\n",
       "      <td>NaN</td>\n",
       "      <td>4.0</td>\n",
       "      <td>1.0</td>\n",
       "      <td>10.0</td>\n",
       "      <td>7.1</td>\n",
       "      <td>...</td>\n",
       "      <td>NaN</td>\n",
       "      <td>NaN</td>\n",
       "      <td>NaN</td>\n",
       "      <td>NaN</td>\n",
       "      <td>NaN</td>\n",
       "      <td>NaN</td>\n",
       "      <td>NaN</td>\n",
       "      <td>NaN</td>\n",
       "      <td>NaN</td>\n",
       "      <td>NaN</td>\n",
       "    </tr>\n",
       "    <tr>\n",
       "      <th>7</th>\n",
       "      <td>-426.0</td>\n",
       "      <td>6.0</td>\n",
       "      <td>NaN</td>\n",
       "      <td>NaN</td>\n",
       "      <td>NaN</td>\n",
       "      <td>NaN</td>\n",
       "      <td>4.0</td>\n",
       "      <td>1.0</td>\n",
       "      <td>10.0</td>\n",
       "      <td>7.1</td>\n",
       "      <td>...</td>\n",
       "      <td>NaN</td>\n",
       "      <td>NaN</td>\n",
       "      <td>NaN</td>\n",
       "      <td>NaN</td>\n",
       "      <td>NaN</td>\n",
       "      <td>3.0</td>\n",
       "      <td>NaN</td>\n",
       "      <td>3.0</td>\n",
       "      <td>NaN</td>\n",
       "      <td>NaN</td>\n",
       "    </tr>\n",
       "  </tbody>\n",
       "</table>\n",
       "<p>5 rows × 43 columns</p>\n",
       "</div>"
      ],
      "text/plain": [
       "     Year   Mo  Dy  Hr  Mn  Sec  Tsunami Event Validity  Tsunami Cause Code  \\\n",
       "2 -1610.0  NaN NaN NaN NaN  NaN                     4.0                 6.0   \n",
       "3 -1610.0  NaN NaN NaN NaN  NaN                     4.0                 6.0   \n",
       "5  -426.0  6.0 NaN NaN NaN  NaN                     4.0                 1.0   \n",
       "6  -426.0  6.0 NaN NaN NaN  NaN                     4.0                 1.0   \n",
       "7  -426.0  6.0 NaN NaN NaN  NaN                     4.0                 1.0   \n",
       "\n",
       "   Tsu Src  Earthquake Magnitude  ...  Missing Missing Description Injuries  \\\n",
       "2      3.0                   NaN  ...      NaN                 NaN      NaN   \n",
       "3      3.0                   NaN  ...      NaN                 NaN      NaN   \n",
       "5     10.0                   7.1  ...      NaN                 NaN      NaN   \n",
       "6     10.0                   7.1  ...      NaN                 NaN      NaN   \n",
       "7     10.0                   7.1  ...      NaN                 NaN      NaN   \n",
       "\n",
       "  Injuries Description Damage $Mil  Damage Description  Houses Destroyed  \\\n",
       "2                  NaN         NaN                 3.0               NaN   \n",
       "3                  NaN         NaN                 3.0               NaN   \n",
       "5                  NaN         NaN                 1.0               NaN   \n",
       "6                  NaN         NaN                 NaN               NaN   \n",
       "7                  NaN         NaN                 3.0               NaN   \n",
       "\n",
       "   Houses Destroyed Description  Houses Damaged  Houses Damaged Description  \n",
       "2                           NaN             NaN                         NaN  \n",
       "3                           NaN             NaN                         NaN  \n",
       "5                           NaN             NaN                         NaN  \n",
       "6                           NaN             NaN                         NaN  \n",
       "7                           3.0             NaN                         NaN  \n",
       "\n",
       "[5 rows x 43 columns]"
      ]
     },
     "execution_count": 163,
     "metadata": {},
     "output_type": "execute_result"
    }
   ],
   "source": [
    "df = df[df['Tsunami Event Validity'] == 4]\n",
    "df = df.drop(['More Info', 'Search Parameters'], axis=1)\n",
    "df.head()"
   ]
  },
  {
   "cell_type": "code",
   "execution_count": null,
   "id": "informed-moldova",
   "metadata": {},
   "outputs": [],
   "source": []
  },
  {
   "cell_type": "markdown",
   "id": "metric-indonesia",
   "metadata": {},
   "source": [
    "## Looking into what the most common tsunami cause is:"
   ]
  },
  {
   "cell_type": "code",
   "execution_count": null,
   "id": "personal-assets",
   "metadata": {},
   "outputs": [],
   "source": []
  },
  {
   "cell_type": "code",
   "execution_count": 164,
   "id": "pressed-attraction",
   "metadata": {},
   "outputs": [
    {
     "name": "stdout",
     "output_type": "stream",
     "text": [
      "1.0     23600\n",
      "3.0      1979\n",
      "7.0       421\n",
      "6.0       238\n",
      "9.0       102\n",
      "8.0        89\n",
      "4.0         8\n",
      "10.0        5\n",
      "0.0         1\n",
      "Name: Tsunami Cause Code, dtype: int64\n"
     ]
    },
    {
     "data": {
      "image/png": "[encoded data removed]",
      "text/plain": [
       "<Figure size 432x288 with 1 Axes>"
      ]
     },
     "metadata": {
      "needs_background": "light"
     },
     "output_type": "display_data"
    }
   ],
   "source": [
    "# figuring out cause code for tsnuami, turning numbers into categories, plotting bar chart of counts of each cause\n",
    "# 0 - Unknown\n",
    "# 1 - Earthquake\n",
    "# 2 - Questionable Earthquake\n",
    "# 3 - Earthquake and Landslide\n",
    "# 4 - Volcano and Earthquake\n",
    "# 5 - Volcano, Earthquake, and Landslide\n",
    "# 6 - Volcano\n",
    "# 7 - Volcano and Landslide\n",
    "# 8 - Landslide\n",
    "# 9 - Meteorological\n",
    "# 10 - Explosion\n",
    "# 11 - Astronomical Tide\n",
    "\n",
    "\n",
    "# Should I condense categories or leave them be? (aka 1,2,3,4,5 all fall under earthquakes, 3,5,7,8 all under landslide. etc)\n",
    "# This would cause some duplication - I'll try both and see\n",
    "\n",
    "\n",
    "df['Tsunami Cause Code'].value_counts().plot(kind='bar')\n",
    "causes = df[['Tsunami Cause Code']]\n",
    "counts = df['Tsunami Cause Code'].value_counts()\n",
    "print(counts)\n",
    "plt.show()"
   ]
  },
  {
   "cell_type": "code",
   "execution_count": 165,
   "id": "thermal-policy",
   "metadata": {},
   "outputs": [
    {
     "name": "stdout",
     "output_type": "stream",
     "text": [
      "23608\n"
     ]
    },
    {
     "data": {
      "image/png": "[encoded data removed]",
      "text/plain": [
       "<Figure size 1080x720 with 1 Axes>"
      ]
     },
     "metadata": {
      "needs_background": "light"
     },
     "output_type": "display_data"
    }
   ],
   "source": [
    "#trying to condense categories to the following: unknown, earthquake, landslide, volcano, meterological, explosion, astronomical tide\n",
    "#earthquakes = ['Earthquakes',]\n",
    "earthquakes = [1,2,4,5]\n",
    "volcanos = [4,5,6,7]\n",
    "landslides = [3,5,7,8]\n",
    "\n",
    "eq = len(causes[causes['Tsunami Cause Code'].isin(earthquakes)])\n",
    "vol = len(causes[causes['Tsunami Cause Code'].isin(volcanos)])\n",
    "land = len(causes[causes['Tsunami Cause Code'].isin(landslides)])\n",
    "unknown = len(causes[causes['Tsunami Cause Code'] == 0].count())\n",
    "met = len(causes[causes['Tsunami Cause Code'] == 9].count())\n",
    "explo = len(causes[causes['Tsunami Cause Code'] == 10].count())\n",
    "tide = len(causes[causes['Tsunami Cause Code'] == 11].count())\n",
    "print(eq)\n",
    "#data = [unknown, eq, land, vol, met, explo, tide]\n",
    "#t_causes = pd.DataFrame(data, columns = ['Unknown','Earthquakes','Landslides','Meterological','Explosions','Tides'])\n",
    "#dframe = pd.concat(unknown,eq,land,vol,met,explo,tide)\n",
    "#dframe = pd.concat(eq,vol)\n",
    "\n",
    "cause_dict = {'Earthquake':eq,'Volcano':vol, 'Landslide':land, \n",
    "              'Meterological':met, 'Explosion':explo, \n",
    "              'Astronomical Tide':tide, 'Unknown':unknown}\n",
    "\n",
    "c_labels =list(cause_dict.keys())\n",
    "c_values = list(cause_dict.values())\n",
    "\n",
    "#sns.barplot(list(cause_dict.keys()),list(cause_dict.values()))\n",
    "plt.figure(figsize=(15,10))\n",
    "plt.bar(cause_dict.keys(),cause_dict.values())\n",
    "plt.xlabel(\"Force That Created or Helped Create Tsunami\")\n",
    "plt.ylabel(\"Number of Tsunamis Created\")\n",
    "plt.title(\"Frequency of Phenomenons that Were Involved in Creating Tsunami\")\n",
    "plt.show()"
   ]
  },
  {
   "cell_type": "markdown",
   "id": "national-hammer",
   "metadata": {},
   "source": [
    "Idea for another question - does cause of tsnuami lead to differing impacts? aka do volcano events cause larger tsnuamis than landslides?"
   ]
  },
  {
   "cell_type": "code",
   "execution_count": null,
   "id": "encouraging-liabilities",
   "metadata": {},
   "outputs": [],
   "source": []
  },
  {
   "cell_type": "markdown",
   "id": "mature-sector",
   "metadata": {},
   "source": [
    "### Looking into Tsunami Damage"
   ]
  },
  {
   "cell_type": "code",
   "execution_count": 189,
   "id": "union-clinic",
   "metadata": {},
   "outputs": [
    {
     "data": {
      "image/png": "[encoded data removed]",
      "text/plain": [
       "<Figure size 720x360 with 1 Axes>"
      ]
     },
     "metadata": {
      "needs_background": "light"
     },
     "output_type": "display_data"
    }
   ],
   "source": [
    "pd.set_option('chained_assignment',None)\n",
    "damage_df = df\n",
    "map_replace = {0:'None',1:'Limited(< 1)', 2:'Moderate (1-5)',3:'Severe(5-25)', 4:'Extreme (>=25)'}\n",
    "damage_order = [\"None\", \"Limited(< 1)\", \"Moderate (1-5)\", \"Severe(5-25)\", \"Extreme (>=25)\"]\n",
    "damage_df = damage_df[pd.to_numeric(df['Damage Description'],errors='coerce').notna()]\n",
    "damage_df['Damage Description'] = damage_df['Damage Description'].apply(lambda x: map_replace.get(x))\n",
    "\n",
    "plt.figure(figsize=(10,5))\n",
    "ax = sns.countplot(x='Damage Description', data = damage_df, palette = 'hls', order = damage_order)\n",
    "plt.xlabel(\"Amount of Damage ($millions)\")\n",
    "plt.ylabel(\"Number of Tsunamis Causing Damage\")\n",
    "plt.title(\"Millions of Dollars in Damage Caused By Tsunamis\")\n",
    "plt.tight_layout()\n",
    "plt.show()"
   ]
  },
  {
   "cell_type": "code",
   "execution_count": 129,
   "id": "portable-republic",
   "metadata": {},
   "outputs": [
    {
     "data": {
      "image/png": "[encoded data removed]",
      "text/plain": [
       "<Figure size 432x288 with 1 Axes>"
      ]
     },
     "metadata": {
      "needs_background": "light"
     },
     "output_type": "display_data"
    }
   ],
   "source": [
    "ax = sns.boxplot(x=df['Death Description'])\n",
    "a"
   ]
  },
  {
   "cell_type": "code",
   "execution_count": 58,
   "id": "guided-adoption",
   "metadata": {},
   "outputs": [
    {
     "ename": "AttributeError",
     "evalue": "module 'matplotlib.pyplot' has no attribute 'lineplot'",
     "output_type": "error",
     "traceback": [
      "\u001b[0;31m---------------------------------------------------------------------------\u001b[0m",
      "\u001b[0;31mAttributeError\u001b[0m                            Traceback (most recent call last)",
      "\u001b[0;32m<ipython-input-58-1e0e02e5332a>\u001b[0m in \u001b[0;36m<module>\u001b[0;34m\u001b[0m\n\u001b[0;32m----> 1\u001b[0;31m \u001b[0mplt\u001b[0m\u001b[0;34m.\u001b[0m\u001b[0mlineplot\u001b[0m\u001b[0;34m(\u001b[0m\u001b[0mdf\u001b[0m\u001b[0;34m[\u001b[0m\u001b[0;34m'Damage $Mil'\u001b[0m\u001b[0;34m]\u001b[0m\u001b[0;34m)\u001b[0m\u001b[0;34m\u001b[0m\u001b[0;34m\u001b[0m\u001b[0m\n\u001b[0m",
      "\u001b[0;31mAttributeError\u001b[0m: module 'matplotlib.pyplot' has no attribute 'lineplot'"
     ]
    }
   ],
   "source": [
    "plt.(df['Damage $Mil'])"
   ]
  },
  {
   "cell_type": "markdown",
   "id": "saving-morning",
   "metadata": {},
   "source": []
  },
  {
   "cell_type": "markdown",
   "id": "essential-myrtle",
   "metadata": {},
   "source": [
    "### Statistical Analysis"
   ]
  },
  {
   "cell_type": "markdown",
   "id": "informational-firmware",
   "metadata": {},
   "source": [
    "Is there a relationship between max height of wave and damage description (\n",
    "NONE, LIMITED (roughly corresponding to less than 1 million), MODERATE (1 to 5 million),SEVERE (5 to 25 million),EXTREME (25 million or more))?"
   ]
  },
  {
   "cell_type": "code",
   "execution_count": 69,
   "id": "fiscal-estonia",
   "metadata": {},
   "outputs": [
    {
     "name": "stdout",
     "output_type": "stream",
     "text": [
      "Damage Values: 0.4845864772796631 7.166159604075422e-27 True\n",
      "Since the pvalue is less than 0.05, we reject the null hypothesis that the original heights are normally distributed.\n",
      "\n",
      "Wave Height Values: 0.3645426630973816 3.3317531785695305e-29 True\n",
      "Since the pvalue is less than 0.05, we reject the null hypothesis that the original heights are normally distributed.\n",
      "\n",
      "Inundation Values: 0.39235901832580566 1.0714563374502182e-28 True\n",
      "Since the pvalue is less than 0.05, we reject the null hypothesis that the original heights are normally distributed.\n",
      "\n"
     ]
    }
   ],
   "source": [
    "#first, need to check for normality of different variables I may use\n",
    "from scipy import stats\n",
    "\n",
    "stat_df = df.dropna(subset = ['Damage Description', 'Maximum Water Height (m)', 'Max Inundation Distance (m)'])\n",
    "\n",
    "\n",
    "damage_statistic, p_value = stats.shapiro(stat_df['Damage Description'])\n",
    "print(\"Damage Values:\", damage_statistic, p_value, p_value < .05)\n",
    "if p_value < 0.05:\n",
    "    print(\"Since the pvalue is less than 0.05, we reject the null hypothesis that the original heights are normally distributed.\\n\")\n",
    "else:\n",
    "    print(\"Since the pvalue is greater than 0.05, we accept the null hypothesis that the original heights are normally distributed.\\n\")\n",
    "\n",
    "height_statistic, p_value1 = stats.shapiro(stat_df['Maximum Water Height (m)'])\n",
    "print(\"Wave Height Values:\", height_statistic, p_value1, p_value1 < .05)\n",
    "if p_value1 < 0.05:\n",
    "    print(\"Since the pvalue is less than 0.05, we reject the null hypothesis that the original heights are normally distributed.\\n\")\n",
    "else:\n",
    "    print(\"Since the pvalue is greater than 0.05, we accept the null hypothesis that the original heights are normally distributed.\\n\")\n",
    "\n",
    "inundation_statistic, p_value2 = stats.shapiro(stat_df['Max Inundation Distance (m)'])\n",
    "print(\"Inundation Values:\", inundation_statistic, p_value2, p_value2 < .05)\n",
    "if p_value2 < 0.05:\n",
    "    print(\"Since the pvalue is less than 0.05, we reject the null hypothesis that the original heights are normally distributed.\\n\")\n",
    "else:\n",
    "    print(\"Since the pvalue is greater than 0.05, we accept the null hypothesis that the original heights are normally distributed.\\n\")"
   ]
  },
  {
   "cell_type": "code",
   "execution_count": null,
   "id": "coastal-vitamin",
   "metadata": {},
   "outputs": [],
   "source": []
  }
 ],
 "metadata": {
  "kernelspec": {
   "display_name": "Python 3",
   "language": "python",
   "name": "python3"
  },
  "language_info": {
   "codemirror_mode": {
    "name": "ipython",
    "version": 3
   },
   "file_extension": ".py",
   "mimetype": "text/x-python",
   "name": "python",
   "nbconvert_exporter": "python",
   "pygments_lexer": "ipython3",
   "version": "3.9.1"
  }
 },
 "nbformat": 4,
 "nbformat_minor": 5
}
