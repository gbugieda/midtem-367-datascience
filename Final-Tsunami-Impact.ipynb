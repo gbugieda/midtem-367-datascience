{
 "cells": [
  {
   "cell_type": "markdown",
   "id": "swedish-technique",
   "metadata": {},
   "source": [
    "# **Tsunami Impact Analysis**"
   ]
  },
  {
   "cell_type": "markdown",
   "id": "boxed-tribune",
   "metadata": {},
   "source": [
    "## Background of the Problem"
   ]
  },
  {
   "cell_type": "markdown",
   "id": "champion-stadium",
   "metadata": {},
   "source": [
    "Tsunamis are natural hazards that consist of a large, long wave, or series of waves that originate due to a displacement in the ocean.  Such displacements can be man-made or caused by earthquakes, landslides, volanic activity, and other forces.  Tsunamis, unlike waves that are driven by the wind, move between the surface of the ocean and the ocean floor, making them much more powerful and destructive.  When tsunamis approach land, the speed at which it travels and the volume of water it brings to shore can cause damage to human life, property, resources, and infrastructure, especially when there is little to no warning for people to prepare.\n",
    "\n",
    "In my analysis, I will be exploring and identifying tsunami trends in terms of geographic location and the amount of damage left in their wake. \n"
   ]
  },
  {
   "cell_type": "markdown",
   "id": "concrete-instruction",
   "metadata": {},
   "source": [
    "## Research Questions to Explore"
   ]
  },
  {
   "cell_type": "markdown",
   "id": "fatal-anger",
   "metadata": {},
   "source": [
    "* *What forces most commonly cause tsunamis to occur?*"
   ]
  },
  {
   "cell_type": "markdown",
   "id": "necessary-craps",
   "metadata": {},
   "source": [
    "## Datasets"
   ]
  },
  {
   "cell_type": "markdown",
   "id": "surrounded-genealogy",
   "metadata": {},
   "source": [
    "In my analysis, I will be using two datasets from [NOAA](www.noaa.gov) that contain tsunami event data.  \n",
    "   * [Dataset1](https://www.ngdc.noaa.gov/hazel/view/hazards/tsunami/event-data): Event Data - This dataset contains recorded information on the source of the tsunami.  \n",
    "   * [Dataset2](https://www.ngdc.noaa.gov/hazel/view/hazards/tsunami/runup-data): Runup Data - This dataset contains recorded information on locations where tsunami effects were seen."
   ]
  },
  {
   "cell_type": "markdown",
   "id": "lucky-mississippi",
   "metadata": {},
   "source": [
    "## Data Manipulation and Transformation"
   ]
  },
  {
   "cell_type": "markdown",
   "id": "physical-relaxation",
   "metadata": {},
   "source": [
    "### Importing libraries"
   ]
  },
  {
   "cell_type": "code",
   "execution_count": 3,
   "id": "organized-health",
   "metadata": {},
   "outputs": [],
   "source": [
    "import pandas as pd\n",
    "import matplotlib.pyplot as plt\n",
    "import seaborn as sns\n",
    "\n",
    "pd.set_option('chained_assignment',None)"
   ]
  },
  {
   "cell_type": "markdown",
   "id": "cathedral-berry",
   "metadata": {},
   "source": [
    "### Reading In and Condensing Dataset"
   ]
  },
  {
   "cell_type": "code",
   "execution_count": 12,
   "id": "needed-value",
   "metadata": {},
   "outputs": [],
   "source": [
    "df = pd.read_csv(\"data/tsunami-runups.tsv\", sep='\\t', low_memory=False)\n",
    "\n",
    "## Condensing data so that we are only looking at definite tsunami events\n",
    "## Definite tsunami events are marked by validity of 4\n",
    "df = df[df['Tsunami Event Validity'] == 4]\n",
    "df = df.drop(['More Info', 'Search Parameters'], axis=1)"
   ]
  },
  {
   "cell_type": "markdown",
   "id": "modular-junction",
   "metadata": {},
   "source": [
    "In order to ensure data results are based on proven tsunami occurances, I've eliminated any data from questionable or probable tsunami occurrances.  Therefore, all of the analysis in this notebook will be based on definite tsunamis."
   ]
  },
  {
   "cell_type": "markdown",
   "id": "indirect-maximum",
   "metadata": {},
   "source": [
    "### Investigating Tsunami Damage"
   ]
  },
  {
   "cell_type": "code",
   "execution_count": 14,
   "id": "concerned-payroll",
   "metadata": {},
   "outputs": [
    {
     "data": {
      "image/png": "[encoded data removed]",
      "text/plain": [
       "<Figure size 720x360 with 1 Axes>"
      ]
     },
     "metadata": {
      "needs_background": "light"
     },
     "output_type": "display_data"
    }
   ],
   "source": [
    "damage_df = df\n",
    "map_replace = {0:'None',1:'Limited(< 1)', 2:'Moderate (1-5)',3:'Severe(5-25)', 4:'Extreme (>=25)'}\n",
    "damage_order = [\"None\", \"Limited(< 1)\", \"Moderate (1-5)\", \"Severe(5-25)\", \"Extreme (>=25)\"]\n",
    "damage_df = damage_df[pd.to_numeric(df['Damage Description'],errors='coerce').notna()]\n",
    "damage_df['Damage Description'] = damage_df['Damage Description'].apply(lambda x: map_replace.get(x))\n",
    "\n",
    "\n",
    "plt.figure(figsize=(10,5))\n",
    "ax = sns.countplot(x='Damage Description', data = damage_df, palette = 'hls', order = damage_order)\n",
    "plt.xlabel(\"Amount of Damage ($millions)\")\n",
    "plt.ylabel(\"Number of Tsunamis Causing Damage\")\n",
    "plt.title(\"Millions of Dollars in Damage Caused By Tsunamis\")\n",
    "plt.tight_layout()\n",
    "plt.show()"
   ]
  },
  {
   "cell_type": "markdown",
   "id": "short-dryer",
   "metadata": {},
   "source": [
    "NOAA categorized tsunami damage into the following categories: None, Limited, Moderate, Severe, and Extreme.  These categories represent both numerical data, and descriptions of damage when there was no numeral data available and instead, only descriptions of the damage.  Each category represents the approximate current dollar value of the millions of dollars in damages from the tsunamis.  <br>\n",
    "\n",
    "Looking at the bar chart above, when tsunamis occur, they most frequently cause less than one million dollars in damage.  However, on occasion, an extremely powerful tsunami can cause extreme damage, costing those affected over twenty-five million dollars. <br>\n",
    "\n",
    "Although the number of tsunamis causing extreme damage is limited, the cost is substantial.  Due to this, I will investigate if there are any similarities or trends in the tsunamis that cause the most amount of damage, whether it be geographic location, wave height, or wave indunation.\n",
    "\n"
   ]
  },
  {
   "cell_type": "code",
   "execution_count": null,
   "id": "configured-alpha",
   "metadata": {},
   "outputs": [],
   "source": []
  },
  {
   "cell_type": "markdown",
   "id": "dressed-brooklyn",
   "metadata": {},
   "source": [
    "## Interpretation of Results"
   ]
  },
  {
   "cell_type": "markdown",
   "id": "informal-referral",
   "metadata": {},
   "source": [
    "## Ethical Evaluation of Analysis"
   ]
  },
  {
   "cell_type": "markdown",
   "id": "worth-lecture",
   "metadata": {},
   "source": [
    "## Sources:"
   ]
  },
  {
   "cell_type": "code",
   "execution_count": null,
   "id": "domestic-dakota",
   "metadata": {},
   "outputs": [],
   "source": []
  }
 ],
 "metadata": {
  "kernelspec": {
   "display_name": "Python 3",
   "language": "python",
   "name": "python3"
  },
  "language_info": {
   "codemirror_mode": {
    "name": "ipython",
    "version": 3
   },
   "file_extension": ".py",
   "mimetype": "text/x-python",
   "name": "python",
   "nbconvert_exporter": "python",
   "pygments_lexer": "ipython3",
   "version": "3.9.1"
  }
 },
 "nbformat": 4,
 "nbformat_minor": 5
}
