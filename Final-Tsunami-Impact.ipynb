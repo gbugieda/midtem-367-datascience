{
 "cells": [
  {
   "cell_type": "markdown",
   "id": "overhead-aside",
   "metadata": {},
   "source": [
    "# **The Impact of Tsunamis**"
   ]
  },
  {
   "cell_type": "markdown",
   "id": "ideal-plate",
   "metadata": {},
   "source": [
    "## Background of the Problem"
   ]
  },
  {
   "cell_type": "markdown",
   "id": "written-corporation",
   "metadata": {},
   "source": []
  },
  {
   "cell_type": "markdown",
   "id": "portuguese-refund",
   "metadata": {},
   "source": [
    "## Research Questions to Explore"
   ]
  },
  {
   "cell_type": "markdown",
   "id": "continued-creator",
   "metadata": {},
   "source": [
    "## Data Manipulation and Transformation"
   ]
  },
  {
   "cell_type": "markdown",
   "id": "level-sacrifice",
   "metadata": {},
   "source": [
    "## Interpretation of Results"
   ]
  },
  {
   "cell_type": "markdown",
   "id": "floppy-coral",
   "metadata": {},
   "source": [
    "## Ethical Evaluation of Analysis"
   ]
  },
  {
   "cell_type": "markdown",
   "id": "second-humanity",
   "metadata": {},
   "source": [
    "## Sources:"
   ]
  },
  {
   "cell_type": "code",
   "execution_count": null,
   "id": "cooperative-leadership",
   "metadata": {},
   "outputs": [],
   "source": []
  }
 ],
 "metadata": {
  "kernelspec": {
   "display_name": "Python 3",
   "language": "python",
   "name": "python3"
  },
  "language_info": {
   "codemirror_mode": {
    "name": "ipython",
    "version": 3
   },
   "file_extension": ".py",
   "mimetype": "text/x-python",
   "name": "python",
   "nbconvert_exporter": "python",
   "pygments_lexer": "ipython3",
   "version": "3.9.1"
  }
 },
 "nbformat": 4,
 "nbformat_minor": 5
}
