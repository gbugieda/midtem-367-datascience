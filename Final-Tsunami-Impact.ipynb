{
 "cells": [
  {
   "cell_type": "markdown",
   "id": "ordered-basic",
   "metadata": {},
   "source": [
    "# **Tsunami Impact Analysis**"
   ]
  },
  {
   "cell_type": "markdown",
   "id": "specialized-physics",
   "metadata": {},
   "source": [
    "## Background of the Problem"
   ]
  },
  {
   "cell_type": "markdown",
   "id": "paperback-memphis",
   "metadata": {},
   "source": [
    "Tsunamis are natural hazards that consist of a large, long wave, or series of waves that originate due to a displacement in the ocean.  Such displacements can be man-made or caused by earthquakes, landslides, volanic activity, and other forces.  Tsunamis, unlike waves that are driven by the wind, move between the surface of the ocean and the ocean floor, making them much more powerful and destructive.  When tsunamis approach land, the speed at which it travels and the volume of water it brings to shore can cause damage to human life, property, resources, and infrastructure, especially when there is little to no warning for people to prepare.\n",
    "\n",
    "In my analysis, I will be exploring and identifying tsunami trends in terms of geographic location and the amount of damage left in their wake. \n"
   ]
  },
  {
   "cell_type": "markdown",
   "id": "elementary-wiring",
   "metadata": {},
   "source": [
    "## Research Questions to Explore"
   ]
  },
  {
   "cell_type": "markdown",
   "id": "conscious-vertex",
   "metadata": {},
   "source": [
    "* *What forces most commonly cause tsunamis to occur?*"
   ]
  },
  {
   "cell_type": "markdown",
   "id": "athletic-catalog",
   "metadata": {},
   "source": [
    "## Datasets"
   ]
  },
  {
   "cell_type": "markdown",
   "id": "entitled-oxide",
   "metadata": {},
   "source": [
    "In my analysis, I will be using two datasets from [NOAA](www.noaa.gov) that contain tsunami event data.  \n",
    "   * [Dataset1](https://www.ngdc.noaa.gov/hazel/view/hazards/tsunami/event-data): Event Data - This dataset contains recorded information on the source of the tsunami.  \n",
    "   * [Dataset2](https://www.ngdc.noaa.gov/hazel/view/hazards/tsunami/runup-data): Runup Data - This dataset contains recorded information on locations where tsunami effects were seen."
   ]
  },
  {
   "cell_type": "markdown",
   "id": "modern-processor",
   "metadata": {},
   "source": [
    "## Data Manipulation and Transformation"
   ]
  },
  {
   "cell_type": "markdown",
   "id": "advisory-franklin",
   "metadata": {},
   "source": [
    "### Importing libraries"
   ]
  },
  {
   "cell_type": "code",
   "execution_count": null,
   "id": "spiritual-vision",
   "metadata": {},
   "outputs": [],
   "source": [
    "import pandas as pd\n",
    "import matplotlib.pyplot as plt"
   ]
  },
  {
   "cell_type": "markdown",
   "id": "oriented-georgia",
   "metadata": {},
   "source": [
    "## Interpretation of Results"
   ]
  },
  {
   "cell_type": "markdown",
   "id": "portuguese-authentication",
   "metadata": {},
   "source": [
    "## Ethical Evaluation of Analysis"
   ]
  },
  {
   "cell_type": "markdown",
   "id": "sized-velvet",
   "metadata": {},
   "source": [
    "## Sources:"
   ]
  },
  {
   "cell_type": "code",
   "execution_count": null,
   "id": "compound-local",
   "metadata": {},
   "outputs": [],
   "source": []
  }
 ],
 "metadata": {
  "kernelspec": {
   "display_name": "Python 3",
   "language": "python",
   "name": "python3"
  },
  "language_info": {
   "codemirror_mode": {
    "name": "ipython",
    "version": 3
   },
   "file_extension": ".py",
   "mimetype": "text/x-python",
   "name": "python",
   "nbconvert_exporter": "python",
   "pygments_lexer": "ipython3",
   "version": "3.9.1"
  }
 },
 "nbformat": 4,
 "nbformat_minor": 5
}
